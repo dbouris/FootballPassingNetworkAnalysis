{
 "cells": [
  {
   "cell_type": "code",
   "execution_count": 39,
   "metadata": {},
   "outputs": [],
   "source": [
    "import pandas as pd\n",
    "import numpy as np\n",
    "import matplotlib.pyplot as plt\n",
    "from mplsoccer import Pitch\n",
    "from matplotlib.colors import to_rgba\n",
    "from mplsoccer import VerticalPitch, add_image, FontManager, Sbopen"
   ]
  },
  {
   "cell_type": "code",
   "execution_count": 40,
   "metadata": {},
   "outputs": [],
   "source": [
    "# liverpool data\n",
    "liverpool_players = pd.read_csv('data/liverpool_players.csv')\n",
    "liverpool_passes = pd.read_csv('data/liverpool_passes.csv')\n",
    "metrics = pd.read_csv('data/all_data_liverpool.csv')\n",
    "\n",
    "liverpool_passes = pd.merge(liverpool_passes, liverpool_players, left_on='Source', right_on='id')\n",
    "liverpool_passes = pd.merge(liverpool_passes, liverpool_players, left_on='Target', right_on='id')\n",
    "liverpool_players = pd.merge(liverpool_players, metrics, left_on='id', right_on='Id')"
   ]
  },
  {
   "cell_type": "code",
   "execution_count": 41,
   "metadata": {},
   "outputs": [],
   "source": [
    "positions = {\n",
    "    'Alisson' : 'south_america',\n",
    "    'Matip' : 'europe',\n",
    "    'Van Dijk' : 'europe',\n",
    "    'Robertson' : 'europe',\n",
    "    'Alexander-Arnold' : 'europe',\n",
    "    'Fabinho' : 'south_america',\n",
    "    'Wijnaldum' : 'europe',\n",
    "    'Henderson' : 'europe',\n",
    "    'Firmino' :'south_america',\n",
    "    'Mané' : 'africa',\n",
    "    'Salah' : 'africa'\n",
    "}\n",
    "liverpool_passes['position_from'] = liverpool_passes['label_x'].map(positions)\n",
    "liverpool_passes['position_to'] = liverpool_passes['label_y'].map(positions)"
   ]
  },
  {
   "cell_type": "code",
   "execution_count": 42,
   "metadata": {},
   "outputs": [
    {
     "data": {
      "text/html": [
       "<div>\n",
       "<style scoped>\n",
       "    .dataframe tbody tr th:only-of-type {\n",
       "        vertical-align: middle;\n",
       "    }\n",
       "\n",
       "    .dataframe tbody tr th {\n",
       "        vertical-align: top;\n",
       "    }\n",
       "\n",
       "    .dataframe thead th {\n",
       "        text-align: right;\n",
       "    }\n",
       "</style>\n",
       "<table border=\"1\" class=\"dataframe\">\n",
       "  <thead>\n",
       "    <tr style=\"text-align: right;\">\n",
       "      <th></th>\n",
       "      <th>Source</th>\n",
       "      <th>Target</th>\n",
       "      <th>Weight</th>\n",
       "      <th>label_x</th>\n",
       "      <th>id_x</th>\n",
       "      <th>label_y</th>\n",
       "      <th>id_y</th>\n",
       "      <th>position_from</th>\n",
       "      <th>position_to</th>\n",
       "    </tr>\n",
       "  </thead>\n",
       "  <tbody>\n",
       "    <tr>\n",
       "      <th>0</th>\n",
       "      <td>3664</td>\n",
       "      <td>3531</td>\n",
       "      <td>9</td>\n",
       "      <td>Alexander-Arnold</td>\n",
       "      <td>3664</td>\n",
       "      <td>Salah</td>\n",
       "      <td>3531</td>\n",
       "      <td>europe</td>\n",
       "      <td>africa</td>\n",
       "    </tr>\n",
       "    <tr>\n",
       "      <th>1</th>\n",
       "      <td>3655</td>\n",
       "      <td>3531</td>\n",
       "      <td>3</td>\n",
       "      <td>Robertson</td>\n",
       "      <td>3655</td>\n",
       "      <td>Salah</td>\n",
       "      <td>3531</td>\n",
       "      <td>europe</td>\n",
       "      <td>africa</td>\n",
       "    </tr>\n",
       "    <tr>\n",
       "      <th>2</th>\n",
       "      <td>3532</td>\n",
       "      <td>3531</td>\n",
       "      <td>3</td>\n",
       "      <td>Henderson</td>\n",
       "      <td>3532</td>\n",
       "      <td>Salah</td>\n",
       "      <td>3531</td>\n",
       "      <td>europe</td>\n",
       "      <td>africa</td>\n",
       "    </tr>\n",
       "    <tr>\n",
       "      <th>3</th>\n",
       "      <td>3502</td>\n",
       "      <td>3531</td>\n",
       "      <td>1</td>\n",
       "      <td>Matip</td>\n",
       "      <td>3502</td>\n",
       "      <td>Salah</td>\n",
       "      <td>3531</td>\n",
       "      <td>europe</td>\n",
       "      <td>africa</td>\n",
       "    </tr>\n",
       "    <tr>\n",
       "      <th>4</th>\n",
       "      <td>3669</td>\n",
       "      <td>3531</td>\n",
       "      <td>2</td>\n",
       "      <td>Van Dijk</td>\n",
       "      <td>3669</td>\n",
       "      <td>Salah</td>\n",
       "      <td>3531</td>\n",
       "      <td>europe</td>\n",
       "      <td>africa</td>\n",
       "    </tr>\n",
       "    <tr>\n",
       "      <th>...</th>\n",
       "      <td>...</td>\n",
       "      <td>...</td>\n",
       "      <td>...</td>\n",
       "      <td>...</td>\n",
       "      <td>...</td>\n",
       "      <td>...</td>\n",
       "      <td>...</td>\n",
       "      <td>...</td>\n",
       "      <td>...</td>\n",
       "    </tr>\n",
       "    <tr>\n",
       "      <th>68</th>\n",
       "      <td>3502</td>\n",
       "      <td>3664</td>\n",
       "      <td>2</td>\n",
       "      <td>Matip</td>\n",
       "      <td>3502</td>\n",
       "      <td>Alexander-Arnold</td>\n",
       "      <td>3664</td>\n",
       "      <td>europe</td>\n",
       "      <td>europe</td>\n",
       "    </tr>\n",
       "    <tr>\n",
       "      <th>69</th>\n",
       "      <td>3669</td>\n",
       "      <td>3664</td>\n",
       "      <td>1</td>\n",
       "      <td>Van Dijk</td>\n",
       "      <td>3669</td>\n",
       "      <td>Alexander-Arnold</td>\n",
       "      <td>3664</td>\n",
       "      <td>europe</td>\n",
       "      <td>europe</td>\n",
       "    </tr>\n",
       "    <tr>\n",
       "      <th>70</th>\n",
       "      <td>3247</td>\n",
       "      <td>3664</td>\n",
       "      <td>1</td>\n",
       "      <td>Fabinho</td>\n",
       "      <td>3247</td>\n",
       "      <td>Alexander-Arnold</td>\n",
       "      <td>3664</td>\n",
       "      <td>south_america</td>\n",
       "      <td>europe</td>\n",
       "    </tr>\n",
       "    <tr>\n",
       "      <th>71</th>\n",
       "      <td>3531</td>\n",
       "      <td>3664</td>\n",
       "      <td>2</td>\n",
       "      <td>Salah</td>\n",
       "      <td>3531</td>\n",
       "      <td>Alexander-Arnold</td>\n",
       "      <td>3664</td>\n",
       "      <td>africa</td>\n",
       "      <td>europe</td>\n",
       "    </tr>\n",
       "    <tr>\n",
       "      <th>72</th>\n",
       "      <td>3567</td>\n",
       "      <td>3664</td>\n",
       "      <td>2</td>\n",
       "      <td>Wijnaldum</td>\n",
       "      <td>3567</td>\n",
       "      <td>Alexander-Arnold</td>\n",
       "      <td>3664</td>\n",
       "      <td>europe</td>\n",
       "      <td>europe</td>\n",
       "    </tr>\n",
       "  </tbody>\n",
       "</table>\n",
       "<p>73 rows × 9 columns</p>\n",
       "</div>"
      ],
      "text/plain": [
       "    Source  Target  Weight           label_x  id_x           label_y  id_y  \\\n",
       "0     3664    3531       9  Alexander-Arnold  3664             Salah  3531   \n",
       "1     3655    3531       3         Robertson  3655             Salah  3531   \n",
       "2     3532    3531       3         Henderson  3532             Salah  3531   \n",
       "3     3502    3531       1             Matip  3502             Salah  3531   \n",
       "4     3669    3531       2          Van Dijk  3669             Salah  3531   \n",
       "..     ...     ...     ...               ...   ...               ...   ...   \n",
       "68    3502    3664       2             Matip  3502  Alexander-Arnold  3664   \n",
       "69    3669    3664       1          Van Dijk  3669  Alexander-Arnold  3664   \n",
       "70    3247    3664       1           Fabinho  3247  Alexander-Arnold  3664   \n",
       "71    3531    3664       2             Salah  3531  Alexander-Arnold  3664   \n",
       "72    3567    3664       2         Wijnaldum  3567  Alexander-Arnold  3664   \n",
       "\n",
       "    position_from position_to  \n",
       "0          europe      africa  \n",
       "1          europe      africa  \n",
       "2          europe      africa  \n",
       "3          europe      africa  \n",
       "4          europe      africa  \n",
       "..            ...         ...  \n",
       "68         europe      europe  \n",
       "69         europe      europe  \n",
       "70  south_america      europe  \n",
       "71         africa      europe  \n",
       "72         europe      europe  \n",
       "\n",
       "[73 rows x 9 columns]"
      ]
     },
     "execution_count": 42,
     "metadata": {},
     "output_type": "execute_result"
    }
   ],
   "source": [
    "liverpool_passes"
   ]
  },
  {
   "cell_type": "code",
   "execution_count": 50,
   "metadata": {},
   "outputs": [
    {
     "data": {
      "text/plain": [
       "5"
      ]
     },
     "execution_count": 50,
     "metadata": {},
     "output_type": "execute_result"
    }
   ],
   "source": [
    "liverpool_passes[(liverpool_passes['position_from']== 'africa') & (liverpool_passes['position_to']=='africa')]['Weight'].sum()"
   ]
  },
  {
   "cell_type": "code",
   "execution_count": 47,
   "metadata": {},
   "outputs": [
    {
     "data": {
      "text/plain": [
       "165"
      ]
     },
     "execution_count": 47,
     "metadata": {},
     "output_type": "execute_result"
    }
   ],
   "source": [
    "liverpool_passes['Weight'].sum()"
   ]
  },
  {
   "cell_type": "code",
   "execution_count": null,
   "metadata": {},
   "outputs": [],
   "source": []
  }
 ],
 "metadata": {
  "kernelspec": {
   "display_name": "Python 3.9.15 ('base')",
   "language": "python",
   "name": "python3"
  },
  "language_info": {
   "codemirror_mode": {
    "name": "ipython",
    "version": 3
   },
   "file_extension": ".py",
   "mimetype": "text/x-python",
   "name": "python",
   "nbconvert_exporter": "python",
   "pygments_lexer": "ipython3",
   "version": "3.9.15"
  },
  "orig_nbformat": 4,
  "vscode": {
   "interpreter": {
    "hash": "ff229a4cc8cb060cb84b6e60fa864dba9578ec565e903995e7f8e74c5a10adc9"
   }
  }
 },
 "nbformat": 4,
 "nbformat_minor": 2
}
